{
 "cells": [
  {
   "cell_type": "code",
   "execution_count": 6,
   "id": "a32b3fcf",
   "metadata": {},
   "outputs": [
    {
     "name": "stdout",
     "output_type": "stream",
     "text": [
      "100\n"
     ]
    }
   ],
   "source": [
    "n = 100\n",
    "if type(n) is type(int()):\n",
    "    print(n)"
   ]
  },
  {
   "cell_type": "code",
   "execution_count": 8,
   "id": "c0e86786",
   "metadata": {},
   "outputs": [
    {
     "data": {
      "text/plain": [
       "3"
      ]
     },
     "execution_count": 8,
     "metadata": {},
     "output_type": "execute_result"
    }
   ],
   "source": [
    "2-1//6 and 3"
   ]
  },
  {
   "cell_type": "code",
   "execution_count": 28,
   "id": "42e13c9c",
   "metadata": {},
   "outputs": [
    {
     "data": {
      "text/plain": [
       "[1, 2, 3, 1, 2]"
      ]
     },
     "execution_count": 28,
     "metadata": {},
     "output_type": "execute_result"
    }
   ],
   "source": [
    "a = [1,2,3]\n",
    "b = {1:4,2:5}\n",
    "a.extend(b)\n",
    "a"
   ]
  },
  {
   "cell_type": "code",
   "execution_count": 31,
   "id": "6e1c66a2",
   "metadata": {},
   "outputs": [
    {
     "data": {
      "text/plain": [
       "[1, 2, -1, 3, 1, 2, 2, -1]"
      ]
     },
     "execution_count": 31,
     "metadata": {},
     "output_type": "execute_result"
    }
   ],
   "source": [
    "a.insert(100,-1)\n",
    "a"
   ]
  },
  {
   "cell_type": "code",
   "execution_count": 33,
   "id": "4661d0c6",
   "metadata": {},
   "outputs": [
    {
     "data": {
      "text/plain": [
       "[1, 2, -1, 3, 1, 2, 2]"
      ]
     },
     "execution_count": 33,
     "metadata": {},
     "output_type": "execute_result"
    }
   ],
   "source": [
    "a.pop()\n",
    "a"
   ]
  },
  {
   "cell_type": "code",
   "execution_count": 1,
   "id": "016d7004",
   "metadata": {},
   "outputs": [
    {
     "ename": "NameError",
     "evalue": "name 'a' is not defined",
     "output_type": "error",
     "traceback": [
      "\u001b[0;31m---------------------------------------------------------------------------\u001b[0m",
      "\u001b[0;31mNameError\u001b[0m                                 Traceback (most recent call last)",
      "\u001b[0;32m/var/folders/kj/xcjx21z56dzbm06bz2g1hn0r0000gn/T/ipykernel_2598/3443137009.py\u001b[0m in \u001b[0;36m<module>\u001b[0;34m\u001b[0m\n\u001b[0;32m----> 1\u001b[0;31m \u001b[0;32mdel\u001b[0m \u001b[0ma\u001b[0m\u001b[0;34m[\u001b[0m\u001b[0;34m-\u001b[0m\u001b[0;36m1\u001b[0m\u001b[0;34m]\u001b[0m\u001b[0;34m\u001b[0m\u001b[0;34m\u001b[0m\u001b[0m\n\u001b[0m\u001b[1;32m      2\u001b[0m \u001b[0ma\u001b[0m\u001b[0;34m\u001b[0m\u001b[0;34m\u001b[0m\u001b[0m\n",
      "\u001b[0;31mNameError\u001b[0m: name 'a' is not defined"
     ]
    }
   ],
   "source": [
    "del a[-1]\n",
    "a"
   ]
  },
  {
   "cell_type": "code",
   "execution_count": 2,
   "id": "bc44fa67",
   "metadata": {},
   "outputs": [
    {
     "ename": "NameError",
     "evalue": "name 'a' is not defined",
     "output_type": "error",
     "traceback": [
      "\u001b[0;31m---------------------------------------------------------------------------\u001b[0m",
      "\u001b[0;31mNameError\u001b[0m                                 Traceback (most recent call last)",
      "\u001b[0;32m/var/folders/kj/xcjx21z56dzbm06bz2g1hn0r0000gn/T/ipykernel_2598/3392985686.py\u001b[0m in \u001b[0;36m<module>\u001b[0;34m\u001b[0m\n\u001b[0;32m----> 1\u001b[0;31m \u001b[0ma\u001b[0m\u001b[0;34m.\u001b[0m\u001b[0mremove\u001b[0m\u001b[0;34m(\u001b[0m\u001b[0;36m2\u001b[0m\u001b[0;34m)\u001b[0m\u001b[0;34m\u001b[0m\u001b[0;34m\u001b[0m\u001b[0m\n\u001b[0m\u001b[1;32m      2\u001b[0m \u001b[0ma\u001b[0m\u001b[0;34m\u001b[0m\u001b[0;34m\u001b[0m\u001b[0m\n",
      "\u001b[0;31mNameError\u001b[0m: name 'a' is not defined"
     ]
    }
   ],
   "source": [
    "a.remove(2)\n",
    "a"
   ]
  },
  {
   "cell_type": "code",
   "execution_count": 3,
   "id": "baf048bd",
   "metadata": {},
   "outputs": [
    {
     "name": "stdout",
     "output_type": "stream",
     "text": [
      "(1, 2)\n",
      "(2, 3)\n",
      "(3, 4)\n"
     ]
    }
   ],
   "source": [
    "d = {1:2,2:3,3:4}\n",
    "for i in d.items():\n",
    "    print(i)"
   ]
  },
  {
   "cell_type": "code",
   "execution_count": 4,
   "id": "9fbf389e",
   "metadata": {},
   "outputs": [
    {
     "data": {
      "text/plain": [
       "{1: 2, 2: 3, 3: 4, 4: 5}"
      ]
     },
     "execution_count": 4,
     "metadata": {},
     "output_type": "execute_result"
    }
   ],
   "source": [
    "d[4]=5\n",
    "d"
   ]
  },
  {
   "cell_type": "code",
   "execution_count": 5,
   "id": "e9d267b8",
   "metadata": {},
   "outputs": [
    {
     "data": {
      "text/plain": [
       "{1: 2, 2: 3, 3: 87, 4: 5, 67: 76}"
      ]
     },
     "execution_count": 5,
     "metadata": {},
     "output_type": "execute_result"
    }
   ],
   "source": [
    "d.update({3:87,67:76})\n",
    "d"
   ]
  },
  {
   "cell_type": "code",
   "execution_count": 6,
   "id": "d4fc43f0",
   "metadata": {},
   "outputs": [
    {
     "data": {
      "text/plain": [
       "{1: 2, 2: 3, 3: 87, 4: 5}"
      ]
     },
     "execution_count": 6,
     "metadata": {},
     "output_type": "execute_result"
    }
   ],
   "source": [
    "del d[67]\n",
    "d"
   ]
  },
  {
   "cell_type": "code",
   "execution_count": 7,
   "id": "e67d4483",
   "metadata": {},
   "outputs": [
    {
     "data": {
      "text/plain": [
       "{1: 2, 2: 3, 3: 87}"
      ]
     },
     "execution_count": 7,
     "metadata": {},
     "output_type": "execute_result"
    }
   ],
   "source": [
    "d.pop(4)\n",
    "d"
   ]
  },
  {
   "cell_type": "code",
   "execution_count": 8,
   "id": "d817a8dd",
   "metadata": {},
   "outputs": [
    {
     "name": "stdout",
     "output_type": "stream",
     "text": [
      "Enter number1 : \n"
     ]
    },
    {
     "ename": "ValueError",
     "evalue": "invalid literal for int() with base 10: ''",
     "output_type": "error",
     "traceback": [
      "\u001b[0;31m---------------------------------------------------------------------------\u001b[0m",
      "\u001b[0;31mValueError\u001b[0m                                Traceback (most recent call last)",
      "\u001b[0;32m/var/folders/kj/xcjx21z56dzbm06bz2g1hn0r0000gn/T/ipykernel_2598/2682439890.py\u001b[0m in \u001b[0;36m<module>\u001b[0;34m\u001b[0m\n\u001b[0;32m----> 1\u001b[0;31m \u001b[0ma\u001b[0m \u001b[0;34m=\u001b[0m \u001b[0mint\u001b[0m\u001b[0;34m(\u001b[0m\u001b[0minput\u001b[0m\u001b[0;34m(\u001b[0m\u001b[0;34m\"Enter number1 : \"\u001b[0m\u001b[0;34m)\u001b[0m\u001b[0;34m)\u001b[0m\u001b[0;34m\u001b[0m\u001b[0;34m\u001b[0m\u001b[0m\n\u001b[0m\u001b[1;32m      2\u001b[0m \u001b[0mb\u001b[0m \u001b[0;34m=\u001b[0m \u001b[0mint\u001b[0m\u001b[0;34m(\u001b[0m\u001b[0minput\u001b[0m\u001b[0;34m(\u001b[0m\u001b[0;34m\"Enter number2 : \"\u001b[0m\u001b[0;34m)\u001b[0m\u001b[0;34m)\u001b[0m\u001b[0;34m\u001b[0m\u001b[0;34m\u001b[0m\u001b[0m\n\u001b[1;32m      3\u001b[0m \u001b[0mo\u001b[0m \u001b[0;34m=\u001b[0m \u001b[0minput\u001b[0m\u001b[0;34m(\u001b[0m\u001b[0;34m\"Enter the opetrator +,-,*,/ : \"\u001b[0m\u001b[0;34m)\u001b[0m\u001b[0;34m\u001b[0m\u001b[0;34m\u001b[0m\u001b[0m\n\u001b[1;32m      4\u001b[0m \u001b[0;32mdef\u001b[0m \u001b[0madd\u001b[0m\u001b[0;34m(\u001b[0m\u001b[0ma\u001b[0m\u001b[0;34m,\u001b[0m\u001b[0mb\u001b[0m\u001b[0;34m)\u001b[0m\u001b[0;34m:\u001b[0m\u001b[0;34m\u001b[0m\u001b[0;34m\u001b[0m\u001b[0m\n\u001b[1;32m      5\u001b[0m     \u001b[0;32mreturn\u001b[0m \u001b[0ma\u001b[0m\u001b[0;34m+\u001b[0m\u001b[0mb\u001b[0m\u001b[0;34m\u001b[0m\u001b[0;34m\u001b[0m\u001b[0m\n",
      "\u001b[0;31mValueError\u001b[0m: invalid literal for int() with base 10: ''"
     ]
    }
   ],
   "source": [
    "a = int(input(\"Enter number1 : \"))\n",
    "b = int(input(\"Enter number2 : \"))\n",
    "o = input(\"Enter the opetrator +,-,*,/ : \")\n",
    "def add(a,b):\n",
    "    return a+b\n",
    "def sub(a,b):\n",
    "    return a-b\n",
    "def mul(a,b):\n",
    "    return a*b\n",
    "def div(a,b):\n",
    "    return a/b\n",
    "if o=='+':\n",
    "    res = add(a,b)\n",
    "elif o=='-':\n",
    "    res = sub(a,b)\n",
    "elif o=='*':\n",
    "    res = mul(a,b)\n",
    "elif o=='/':\n",
    "    res = div(a,b)\n",
    "print(res)"
   ]
  },
  {
   "cell_type": "code",
   "execution_count": 9,
   "id": "06f02421",
   "metadata": {},
   "outputs": [
    {
     "data": {
      "text/plain": [
       "13"
      ]
     },
     "execution_count": 9,
     "metadata": {},
     "output_type": "execute_result"
    }
   ],
   "source": [
    "res = lambda a,b : a+b\n",
    "res(6,7)"
   ]
  },
  {
   "cell_type": "code",
   "execution_count": 10,
   "id": "ef76c8f0",
   "metadata": {},
   "outputs": [
    {
     "name": "stdout",
     "output_type": "stream",
     "text": [
      "Enter number1 : \n"
     ]
    },
    {
     "ename": "ValueError",
     "evalue": "invalid literal for int() with base 10: ''",
     "output_type": "error",
     "traceback": [
      "\u001b[0;31m---------------------------------------------------------------------------\u001b[0m",
      "\u001b[0;31mValueError\u001b[0m                                Traceback (most recent call last)",
      "\u001b[0;32m/var/folders/kj/xcjx21z56dzbm06bz2g1hn0r0000gn/T/ipykernel_2598/2987211440.py\u001b[0m in \u001b[0;36m<module>\u001b[0;34m\u001b[0m\n\u001b[0;32m----> 1\u001b[0;31m \u001b[0ma\u001b[0m \u001b[0;34m=\u001b[0m \u001b[0mint\u001b[0m\u001b[0;34m(\u001b[0m\u001b[0minput\u001b[0m\u001b[0;34m(\u001b[0m\u001b[0;34m\"Enter number1 : \"\u001b[0m\u001b[0;34m)\u001b[0m\u001b[0;34m)\u001b[0m\u001b[0;34m\u001b[0m\u001b[0;34m\u001b[0m\u001b[0m\n\u001b[0m\u001b[1;32m      2\u001b[0m \u001b[0mb\u001b[0m \u001b[0;34m=\u001b[0m \u001b[0mint\u001b[0m\u001b[0;34m(\u001b[0m\u001b[0minput\u001b[0m\u001b[0;34m(\u001b[0m\u001b[0;34m\"Enter number2 : \"\u001b[0m\u001b[0;34m)\u001b[0m\u001b[0;34m)\u001b[0m\u001b[0;34m\u001b[0m\u001b[0;34m\u001b[0m\u001b[0m\n\u001b[1;32m      3\u001b[0m \u001b[0;32mtry\u001b[0m\u001b[0;34m:\u001b[0m\u001b[0;34m\u001b[0m\u001b[0;34m\u001b[0m\u001b[0m\n\u001b[1;32m      4\u001b[0m     \u001b[0mres\u001b[0m \u001b[0;34m=\u001b[0m \u001b[0ma\u001b[0m\u001b[0;34m/\u001b[0m\u001b[0mb\u001b[0m\u001b[0;34m\u001b[0m\u001b[0;34m\u001b[0m\u001b[0m\n\u001b[1;32m      5\u001b[0m     \u001b[0mprint\u001b[0m\u001b[0;34m(\u001b[0m\u001b[0mres\u001b[0m\u001b[0;34m)\u001b[0m\u001b[0;34m\u001b[0m\u001b[0;34m\u001b[0m\u001b[0m\n",
      "\u001b[0;31mValueError\u001b[0m: invalid literal for int() with base 10: ''"
     ]
    }
   ],
   "source": [
    "a = int(input(\"Enter number1 : \"))\n",
    "b = int(input(\"Enter number2 : \"))\n",
    "try:\n",
    "    res = a/b\n",
    "    print(res)\n",
    "except ZeroDivisionError:\n",
    "    print(\"number 2 can't be zero\")"
   ]
  },
  {
   "cell_type": "code",
   "execution_count": 11,
   "id": "1e61da23",
   "metadata": {},
   "outputs": [
    {
     "data": {
      "text/plain": [
       "[5, 7, 9]"
      ]
     },
     "execution_count": 11,
     "metadata": {},
     "output_type": "execute_result"
    }
   ],
   "source": [
    "a = [1,2,3]\n",
    "b = [4,5,6]\n",
    "c = list(map(res,a,b))\n",
    "c"
   ]
  },
  {
   "cell_type": "code",
   "execution_count": 12,
   "id": "5a14b494",
   "metadata": {},
   "outputs": [
    {
     "data": {
      "text/plain": [
       "['.DS_Store',\n",
       " 'Untitled.ipynb',\n",
       " 'Tic Tac Toe.ipynb',\n",
       " 'calc.ipynb',\n",
       " 'sample.dat',\n",
       " 'calc.py',\n",
       " '.ipynb_checkpoints',\n",
       " '.git']"
      ]
     },
     "execution_count": 12,
     "metadata": {},
     "output_type": "execute_result"
    }
   ],
   "source": [
    "import os\n",
    "os.listdir()"
   ]
  },
  {
   "cell_type": "code",
   "execution_count": 28,
   "id": "0a568ed1",
   "metadata": {},
   "outputs": [
    {
     "data": {
      "text/plain": [
       "-1"
      ]
     },
     "execution_count": 28,
     "metadata": {},
     "output_type": "execute_result"
    }
   ],
   "source": [
    "import calc\n",
    "a = calc.sub(5,6)\n",
    "a"
   ]
  },
  {
   "cell_type": "code",
   "execution_count": 30,
   "id": "f1a7f4ed",
   "metadata": {},
   "outputs": [
    {
     "data": {
      "text/plain": [
       "14"
      ]
     },
     "execution_count": 30,
     "metadata": {},
     "output_type": "execute_result"
    }
   ],
   "source": [
    "import calc\n",
    "calc.add(6,8)"
   ]
  },
  {
   "cell_type": "code",
   "execution_count": 32,
   "id": "04a087b3",
   "metadata": {},
   "outputs": [
    {
     "data": {
      "text/plain": [
       "2.3333333333333335"
      ]
     },
     "execution_count": 32,
     "metadata": {},
     "output_type": "execute_result"
    }
   ],
   "source": [
    "import calc\n",
    "b = calc.div(7,3)\n",
    "b"
   ]
  },
  {
   "cell_type": "code",
   "execution_count": 33,
   "id": "f073dd50",
   "metadata": {},
   "outputs": [],
   "source": [
    "with open('sample.txt','w') as f:\n",
    "    f.write('hello\\n')\n",
    "    f.write('this is vinay.\\n')\n",
    "    "
   ]
  },
  {
   "cell_type": "code",
   "execution_count": 34,
   "id": "cbfe5293",
   "metadata": {},
   "outputs": [
    {
     "name": "stdout",
     "output_type": "stream",
     "text": [
      "hello\n",
      "this is vinay.\n",
      "\n"
     ]
    }
   ],
   "source": [
    "with open('sample.txt','r') as f:\n",
    "    print(f.read())"
   ]
  },
  {
   "cell_type": "code",
   "execution_count": 39,
   "id": "a467044b",
   "metadata": {},
   "outputs": [
    {
     "name": "stdout",
     "output_type": "stream",
     "text": [
      "['abcd']\n"
     ]
    }
   ],
   "source": [
    "l = ['a','b','c','d']\n",
    "with open('sample.txt','w') as f:\n",
    "    f.writelines(l)\n",
    "with open('sample.txt','r') as f:\n",
    "    print(f.readlines())"
   ]
  },
  {
   "cell_type": "code",
   "execution_count": 45,
   "id": "af6f31d0",
   "metadata": {},
   "outputs": [
    {
     "name": "stdout",
     "output_type": "stream",
     "text": [
      "[1, 2, 3, 4, 5, 6]\n"
     ]
    }
   ],
   "source": [
    "import pickle\n",
    "a = [1,2,3,4,5,6]\n",
    "with open('sample.dat','wb') as f:\n",
    "    pickle.dump(a,f)\n",
    "with open('sample.dat','rb') as f:\n",
    "    r = pickle.load(f)\n",
    "    print(r)"
   ]
  },
  {
   "cell_type": "code",
   "execution_count": 87,
   "id": "982c45a7",
   "metadata": {},
   "outputs": [],
   "source": [
    "class A:\n",
    "    def __init__(self):\n",
    "        self.a = 10\n",
    "        self.b = 20\n",
    "    def pa(self):\n",
    "        print(self.a)\n",
    "    def pb(self):\n",
    "        print(self.b)\n",
    "class B(A):\n",
    "    def __init__(self):\n",
    "        A.__init__(self)\n",
    "    def pc(self):\n",
    "        print('This is child class',self.a,self.b)\n",
    "    def pf(self):\n",
    "        print(self.a,self.b)\n",
    "class C(B):\n",
    "    def pd(self):\n",
    "        print('This is multilevel inheritance',self.a,self.b)\n",
    "class D(A):\n",
    "    def pe(self):\n",
    "        print('This is second child of class A',self.a,self.b)"
   ]
  },
  {
   "cell_type": "code",
   "execution_count": 74,
   "id": "5f65e21a",
   "metadata": {},
   "outputs": [
    {
     "name": "stdout",
     "output_type": "stream",
     "text": [
      "This is child class 10 20\n"
     ]
    }
   ],
   "source": [
    "a = A()\n",
    "b = B()\n",
    "b.pc()"
   ]
  },
  {
   "cell_type": "code",
   "execution_count": 75,
   "id": "ab06c72b",
   "metadata": {},
   "outputs": [
    {
     "name": "stdout",
     "output_type": "stream",
     "text": [
      "This is multilevel inheritance 10 20\n"
     ]
    }
   ],
   "source": [
    "c = C()\n",
    "c.pd()"
   ]
  },
  {
   "cell_type": "code",
   "execution_count": 76,
   "id": "fe6327b5",
   "metadata": {},
   "outputs": [
    {
     "name": "stdout",
     "output_type": "stream",
     "text": [
      "This is second child of class A 10 20\n"
     ]
    }
   ],
   "source": [
    "d = D()\n",
    "d.pe()"
   ]
  },
  {
   "cell_type": "code",
   "execution_count": 88,
   "id": "56cf61e8",
   "metadata": {},
   "outputs": [
    {
     "name": "stdout",
     "output_type": "stream",
     "text": [
      "10 20\n"
     ]
    }
   ],
   "source": [
    "b = B()\n",
    "b.pf()"
   ]
  },
  {
   "cell_type": "code",
   "execution_count": 89,
   "id": "c944df7e",
   "metadata": {},
   "outputs": [
    {
     "name": "stdout",
     "output_type": "stream",
     "text": [
      "Enter a number : 23675267\n",
      "Reverse of the number : 76257632\n"
     ]
    }
   ],
   "source": [
    "a = input(\"Enter a number : \")\n",
    "a = int(a[::-1])\n",
    "print(f\"Reverse of the number : {a}\")"
   ]
  },
  {
   "cell_type": "code",
   "execution_count": 112,
   "id": "2653135f",
   "metadata": {},
   "outputs": [
    {
     "name": "stdout",
     "output_type": "stream",
     "text": [
      "enter a word : ababa\n",
      "palindrome\n"
     ]
    }
   ],
   "source": [
    "a = input(\"enter a word : \")\n",
    "b = a[::-1]\n",
    "if a==b:\n",
    "    print('palindrome')\n",
    "else:\n",
    "    print('Not Palindrome')"
   ]
  },
  {
   "cell_type": "code",
   "execution_count": null,
   "id": "fd5da431",
   "metadata": {},
   "outputs": [],
   "source": [
    "a = input(\"enter a 3-digit number : \")\n",
    "s = 0\n",
    "for i in a:\n",
    "    s += int(i)**3\n",
    "if s==int(a):\n",
    "    print(\"Armstrong\")\n",
    "else:\n",
    "    print(\"Not an Armstrong\")\n",
    "print(s)"
   ]
  },
  {
   "cell_type": "code",
   "execution_count": 105,
   "id": "2f3d85a4",
   "metadata": {},
   "outputs": [
    {
     "name": "stdout",
     "output_type": "stream",
     "text": [
      " Enter 1 for Area of square\n",
      " Enter 2 for Area of Rectange\n",
      " Enter 3 for Area of Triangle2\n",
      "Enter length of rect : 4\n",
      "Enter breadth of rect : 5\n",
      "Area of Rect : 20\n"
     ]
    }
   ],
   "source": [
    "a = int(input(\" Enter 1 for Area of square\\n Enter 2 for Area of Rectange\\n Enter 3 for Area of Triangle\"))\n",
    "if a==1:\n",
    "    l = int(input(\"Enter length of square : \"))\n",
    "    print(\"Area of Square :\", l**2)\n",
    "elif a==2:\n",
    "    l = int(input(\"Enter length of rect : \"))\n",
    "    b = int(input(\"Enter breadth of rect : \"))\n",
    "    print(\"Area of Rect :\", l*b)\n",
    "elif a==3:\n",
    "    b = int(input(\"Enter base length of triangle : \"))\n",
    "    h = int(input(\"Enter height of triangle : \"))\n",
    "    print(\"Area of Triangle :\",0.5*b*h)"
   ]
  },
  {
   "cell_type": "code",
   "execution_count": 107,
   "id": "5d64d61d",
   "metadata": {},
   "outputs": [
    {
     "name": "stdout",
     "output_type": "stream",
     "text": [
      "5,10,15,20,25,30,35,40,45,50,55,60,65,70,75,80,85,90,95,100,"
     ]
    }
   ],
   "source": [
    "n = 5\n",
    "while n<=100:\n",
    "    print(n,end = \",\")\n",
    "    n+=5\n"
   ]
  },
  {
   "cell_type": "code",
   "execution_count": 108,
   "id": "81a7fdce",
   "metadata": {},
   "outputs": [
    {
     "name": "stdout",
     "output_type": "stream",
     "text": [
      "100,98,96,94,92,90,88,86,84,82,80,78,76,74,72,70,68,66,64,62,60,58,56,54,52,50,48,46,44,42,40,38,36,34,32,30,28,26,24,22,20,18,16,14,12,10,8,6,4,2,"
     ]
    }
   ],
   "source": [
    "n = 100\n",
    "while n>0:\n",
    "    print(n,end=\",\")\n",
    "    n-=2"
   ]
  },
  {
   "cell_type": "code",
   "execution_count": 114,
   "id": "4bfbc594",
   "metadata": {},
   "outputs": [
    {
     "name": "stdout",
     "output_type": "stream",
     "text": [
      "123\n",
      "Sum of Digits : 6\n"
     ]
    }
   ],
   "source": [
    "a = input(\"Enter a number : \")\n",
    "s=0\n",
    "for i in a:\n",
    "    s += int(i)\n",
    "print(\"Sum of Digits :\",s)"
   ]
  },
  {
   "cell_type": "code",
   "execution_count": 117,
   "id": "1e02546a",
   "metadata": {},
   "outputs": [
    {
     "name": "stdout",
     "output_type": "stream",
     "text": [
      "5\n"
     ]
    }
   ],
   "source": [
    "def fib(n):\n",
    "    if n==1:\n",
    "        return 0\n",
    "    if n==2:\n",
    "        return 1\n",
    "    res = fib(n-1)+fib(n-2)\n",
    "    return res\n",
    "print(fib(6))"
   ]
  },
  {
   "cell_type": "code",
   "execution_count": 2,
   "id": "80362394",
   "metadata": {},
   "outputs": [
    {
     "name": "stdout",
     "output_type": "stream",
     "text": [
      "Enter a string : python\n",
      "*\n",
      "*\n",
      "*\n",
      "*\n",
      "*\n",
      "*\n",
      "*\n",
      "*\n",
      "*\n",
      "*\n",
      "Guess the word :  _  _  _  _ o _ \n",
      "You have 10 Attempts\n",
      "Attempt-1 : p\n",
      "Entered letter is in string\n",
      "p _  _  _ o _ \n",
      "Attempt-2 : y\n",
      "Entered letter is in string\n",
      "py _  _ o _ \n",
      "Attempt-3 : n\n",
      "Entered letter is in string\n",
      "py _  _ on\n",
      "Attempt-4 : h\n",
      "Entered letter is in string\n",
      "py _ hon\n",
      "Attempt-5 : h\n",
      "You have entered the same character again. Penalty -2\n",
      "Attempt-6 : r\n",
      "The letter is not in string\n",
      "Attempt-7 : k\n",
      "The letter is not in string\n",
      "Attempt-8 : v\n",
      "The letter is not in string\n",
      "Attempt-9 : m\n",
      "The letter is not in string\n",
      "Attempt-10 : t\n",
      "Entered letter is in string\n",
      "python\n",
      "The word is complete. python\n",
      "Your final score :  14\n"
     ]
    }
   ],
   "source": [
    "a = input(\"Enter a string : \")\n",
    "b = r = a\n",
    "v = ['a','e','i','o','u']\n",
    "for i in a:\n",
    "    if i not in v:\n",
    "        b = b.replace(i,\" _ \")\n",
    "        r = r.replace(i,\"_\")\n",
    "for i in range(10):\n",
    "    print(\"*\")\n",
    "print(\"Guess the word :\",b)\n",
    "print(\"You have 10 Attempts\")\n",
    "score = 20\n",
    "g = []\n",
    "for i in range(1,11):\n",
    "    c = input(f\"Attempt-{i} : \")\n",
    "    if c in g:\n",
    "        print(\"You have entered the same character again. Penalty -2\")\n",
    "        score = score-2\n",
    "    elif c in a and c not in r:\n",
    "        g.append(c)\n",
    "        j = a.index(c)\n",
    "        r = r[:j]+c+r[j+1:]\n",
    "        print(\"Entered letter is in string\")\n",
    "        print(r.replace(\"_\",\" _ \"))\n",
    "    elif c not in a:\n",
    "        print(\"The letter is not in string\")\n",
    "        score = score-1\n",
    "    if r==a:\n",
    "        print(\"The word is complete.\",r)\n",
    "        print(\"Your final score : \",score)\n",
    "        break\n",
    "if r!=a:\n",
    "    print(\"You have used all attempts\")\n",
    "    print(\"The word to guess is \",a)"
   ]
  },
  {
   "cell_type": "code",
   "execution_count": 11,
   "id": "e4657eb5",
   "metadata": {},
   "outputs": [
    {
     "data": {
      "text/plain": [
       "[100, 9, 8, 7, 6, 5, 4, 3, 2, 1]"
      ]
     },
     "execution_count": 11,
     "metadata": {},
     "output_type": "execute_result"
    }
   ],
   "source": [
    "l = [6,3,4,5,2,1,9,7,8,100]\n",
    "l.sort(reverse = True)\n",
    "#l.reverse()\n",
    "#l.index(2)\n",
    "l"
   ]
  },
  {
   "cell_type": "code",
   "execution_count": 10,
   "id": "ac64d870",
   "metadata": {},
   "outputs": [
    {
     "name": "stdout",
     "output_type": "stream",
     "text": [
      "hello hel tic++"
     ]
    }
   ],
   "source": [
    "print(\"hello\",'hel','tic',end=\"++\")"
   ]
  },
  {
   "cell_type": "code",
   "execution_count": 12,
   "id": "cde84981",
   "metadata": {},
   "outputs": [
    {
     "name": "stdout",
     "output_type": "stream",
     "text": [
      "dict_items([(1, 1), (2, 2), (3, 3), (4, 4)])\n",
      "dict_keys([1, 2, 3, 4])\n",
      "dict_values([1, 2, 3, 4])\n"
     ]
    }
   ],
   "source": [
    "d = {1:1,2:2,3:3,4:4}\n",
    "print(d.items())\n",
    "print(d.keys())\n",
    "print(d.values())\n",
    "print(len(d))"
   ]
  },
  {
   "cell_type": "code",
   "execution_count": 13,
   "id": "aa5f34c2",
   "metadata": {},
   "outputs": [
    {
     "data": {
      "text/plain": [
       "{1: 1, 2: 56, 3: 3, 4: 4}"
      ]
     },
     "execution_count": 13,
     "metadata": {},
     "output_type": "execute_result"
    }
   ],
   "source": [
    "d.update({2:56})\n",
    "d"
   ]
  },
  {
   "cell_type": "code",
   "execution_count": 18,
   "id": "ad22b6ca",
   "metadata": {},
   "outputs": [
    {
     "name": "stdout",
     "output_type": "stream",
     "text": [
      "9\n",
      "1 \n",
      "1 2 \n",
      "1 2 3 \n",
      "1 2 3 4 \n",
      "1 2 3 4 5 \n",
      "1 2 3 4 5 6 \n",
      "1 2 3 4 5 6 7 \n",
      "1 2 3 4 5 6 7 8 \n",
      "1 2 3 4 5 6 7 8 9 \n"
     ]
    }
   ],
   "source": [
    "n=int(input())\n",
    "for i in range(1,n+1):\n",
    "    for j in range(1,i+1):\n",
    "        print(j,end=\" \")\n",
    "    print()"
   ]
  },
  {
   "cell_type": "code",
   "execution_count": 19,
   "id": "bf9f8ad5",
   "metadata": {},
   "outputs": [
    {
     "name": "stdout",
     "output_type": "stream",
     "text": [
      "98\n",
      "Even\n"
     ]
    }
   ],
   "source": [
    "n = int(input())\n",
    "if n%2==0:\n",
    "    print('Even')\n",
    "else:\n",
    "    print('Odd')"
   ]
  },
  {
   "cell_type": "code",
   "execution_count": 21,
   "id": "a0205180",
   "metadata": {},
   "outputs": [
    {
     "name": "stdout",
     "output_type": "stream",
     "text": [
      "Enter 3 digits seperated by space : 2 46 3\n",
      "46\n"
     ]
    }
   ],
   "source": [
    "a = list(map(int,input(\"Enter 3 digits seperated by space : \").split()))\n",
    "print(max(a))\n",
    "b,c,d = a\n"
   ]
  },
  {
   "cell_type": "code",
   "execution_count": 25,
   "id": "21ad6555",
   "metadata": {},
   "outputs": [
    {
     "name": "stdout",
     "output_type": "stream",
     "text": [
      "enter a number : 564567\n",
      "Buzz\n"
     ]
    }
   ],
   "source": [
    "n = input(\"enter a number : \")\n",
    "if n[-1]=='7' or int(n)%7==0:\n",
    "    print(\"Buzz\")\n",
    "else:\n",
    "    print(\"Not a Buzz\")"
   ]
  },
  {
   "cell_type": "code",
   "execution_count": 27,
   "id": "95bd8a68",
   "metadata": {},
   "outputs": [
    {
     "name": "stdout",
     "output_type": "stream",
     "text": [
      "enter number-1 : 10\n",
      "enter number-2 : 2\n",
      "Number-1 is divisible by Number-2\n"
     ]
    }
   ],
   "source": [
    "a = int(input(\"enter number-1 : \"))\n",
    "b = int(input(\"enter number-2 : \"))\n",
    "if a%b==0:\n",
    "    print(\"Number-1 is divisible by Number-2\")\n",
    "else:\n",
    "    print(\"Number-1 is not divisible by Number-2\")"
   ]
  },
  {
   "cell_type": "code",
   "execution_count": 36,
   "id": "db8c0707",
   "metadata": {},
   "outputs": [
    {
     "name": "stdout",
     "output_type": "stream",
     "text": [
      "Enter a number : 19\n",
      "19 is Prime\n"
     ]
    }
   ],
   "source": [
    "import math\n",
    "n = int(input(\"Enter a number : \"))\n",
    "def is_prime(k):\n",
    "    if k==2 or k==3:\n",
    "        return True\n",
    "    for i in range(2,int(math.sqrt(n))+1):\n",
    "        if k%i==0:\n",
    "            return False\n",
    "    return True \n",
    "if is_prime(n):\n",
    "    print(f'{n} is Prime')\n",
    "else:\n",
    "    print(f'{n} is Not Prime')"
   ]
  },
  {
   "cell_type": "code",
   "execution_count": 37,
   "id": "27edfbd8",
   "metadata": {},
   "outputs": [
    {
     "name": "stdout",
     "output_type": "stream",
     "text": [
      "Enter a number : 15\n",
      "Factors of 15 are :  1,3,5,15,"
     ]
    }
   ],
   "source": [
    "n = int(input(\"Enter a number : \"))\n",
    "print(f\"Factors of {n} are : \",end = \" \")\n",
    "for i in range(1,n+1):\n",
    "    if n%i==0:\n",
    "        print(i,end = \",\")"
   ]
  },
  {
   "cell_type": "code",
   "execution_count": 38,
   "id": "aedc0182",
   "metadata": {},
   "outputs": [
    {
     "name": "stdout",
     "output_type": "stream",
     "text": [
      "pyt"
     ]
    }
   ],
   "source": [
    "a = 'python'\n",
    "for i in a:\n",
    "    if i=='h':\n",
    "        break\n",
    "    print(i,end=\"\")"
   ]
  },
  {
   "cell_type": "code",
   "execution_count": 45,
   "id": "3b8acdd4",
   "metadata": {},
   "outputs": [
    {
     "name": "stdout",
     "output_type": "stream",
     "text": [
      "pyt"
     ]
    }
   ],
   "source": [
    "a = 'python'\n",
    "i=0\n",
    "while i<3:\n",
    "    print(a[i],end='')\n",
    "    i+=1"
   ]
  },
  {
   "cell_type": "code",
   "execution_count": 39,
   "id": "254a1213",
   "metadata": {},
   "outputs": [
    {
     "name": "stdout",
     "output_type": "stream",
     "text": [
      "pyhon"
     ]
    }
   ],
   "source": [
    "a = 'python'\n",
    "for i in a:\n",
    "    if i=='t':\n",
    "        continue\n",
    "    print(i,end=\"\")"
   ]
  },
  {
   "cell_type": "code",
   "execution_count": 42,
   "id": "d50b93cb",
   "metadata": {},
   "outputs": [
    {
     "name": "stdout",
     "output_type": "stream",
     "text": [
      "Enter temperature in celcius : 23\n",
      "Temperature in farenheit : 73.4\n"
     ]
    }
   ],
   "source": [
    "n = int(input(\"Enter temperature in celcius : \"))\n",
    "f = (n*1.8)+32\n",
    "print(f'Temperature in farenheit : {f}')"
   ]
  },
  {
   "cell_type": "code",
   "execution_count": 48,
   "id": "705e9dbc",
   "metadata": {},
   "outputs": [
    {
     "name": "stdout",
     "output_type": "stream",
     "text": [
      "Enter a number : 10\n",
      "10 is not a perfect number\n"
     ]
    }
   ],
   "source": [
    "n = int(input(\"Enter a number : \"))\n",
    "s = 0\n",
    "for i in range(1,n):\n",
    "    if n%i==0:\n",
    "        s = s+i\n",
    "if s==n:\n",
    "    print(f'{n} is a perfect number')\n",
    "else:\n",
    "    print(f'{n} is not a perfect number')"
   ]
  },
  {
   "cell_type": "code",
   "execution_count": 49,
   "id": "d1f5e2d0",
   "metadata": {},
   "outputs": [
    {
     "name": "stdout",
     "output_type": "stream",
     "text": [
      "5 3\n"
     ]
    }
   ],
   "source": [
    "x = 3\n",
    "y = x\n",
    "x = 5\n",
    "print(x,y)"
   ]
  },
  {
   "cell_type": "code",
   "execution_count": 54,
   "id": "d43d4e01",
   "metadata": {},
   "outputs": [
    {
     "name": "stdout",
     "output_type": "stream",
     "text": [
      "[1, 4]\n"
     ]
    }
   ],
   "source": [
    "def GL(a,b):\n",
    "    s1 = set()\n",
    "    s2 = set()\n",
    "    for i in range(1,a+1):\n",
    "        if a%i==0:\n",
    "            s1.add(i)\n",
    "    for i in range(1,b+1):\n",
    "        if b%i==0:\n",
    "            s2.add(i)\n",
    "    l = list(s1.intersection(s2))\n",
    "    lcd = min(l)\n",
    "    gcd = max(l)\n",
    "    return [lcd,gcd]\n",
    "x = lambda a,b : GL(a,b)\n",
    "print(x(4,20))"
   ]
  },
  {
   "cell_type": "code",
   "execution_count": 55,
   "id": "866648df",
   "metadata": {},
   "outputs": [],
   "source": [
    "gcd = lambda a,b : gcd(b,a%b) if b!=0 else a\n",
    "lcd = lambda a,b : a*b//gcd(a,b)\n"
   ]
  },
  {
   "cell_type": "code",
   "execution_count": 68,
   "id": "6688a68e",
   "metadata": {},
   "outputs": [
    {
     "name": "stdout",
     "output_type": "stream",
     "text": [
      "4\n"
     ]
    }
   ],
   "source": [
    "a = \"out\"\n",
    "class Hell:\n",
    "    def __init__(self,b,c):\n",
    "        self.a = 'in'\n",
    "        self.b = b\n",
    "        self.c = c\n",
    "    def da(self):\n",
    "        print(self.a)\n",
    "    def db(self):\n",
    "        print(self.b)\n",
    "c = Hell(4,5)\n",
    "c.db()"
   ]
  },
  {
   "cell_type": "code",
   "execution_count": 76,
   "id": "c66bc972",
   "metadata": {},
   "outputs": [
    {
     "name": "stdout",
     "output_type": "stream",
     "text": [
      "This is class p2\n"
     ]
    }
   ],
   "source": [
    "class p1:\n",
    "    def v(self):\n",
    "        print('This is class p1')\n",
    "class p2(p1):\n",
    "    def v(self):\n",
    "        print('This is class p2')\n",
    "class p3(p2,p1):\n",
    "    pass\n",
    "a = p3()\n",
    "a.v()"
   ]
  },
  {
   "cell_type": "code",
   "execution_count": 85,
   "id": "3d5f7070",
   "metadata": {},
   "outputs": [
    {
     "name": "stdout",
     "output_type": "stream",
     "text": [
      "This is class p1\n",
      "This is class p2\n",
      "This is class p3\n"
     ]
    }
   ],
   "source": [
    "class p1:\n",
    "    def v(self):\n",
    "        print('This is class p1')\n",
    "class p2(p1):\n",
    "    def v(self):\n",
    "        super().v()\n",
    "        print('This is class p2')\n",
    "class p3(p2):\n",
    "    def v(self):\n",
    "        super().v()\n",
    "        print('This is class p3')\n",
    "a = p3()\n",
    "a.v()"
   ]
  },
  {
   "cell_type": "code",
   "execution_count": 109,
   "id": "7d61c83d",
   "metadata": {},
   "outputs": [
    {
     "name": "stdout",
     "output_type": "stream",
     "text": [
      "instance\n",
      "static\n",
      "class\n",
      "class\n"
     ]
    }
   ],
   "source": [
    "class p1:\n",
    "    def v(self):\n",
    "        print('instance')\n",
    "        \n",
    "    def v2():\n",
    "        print('static')\n",
    "    \n",
    "    @classmethod\n",
    "    def v3(p1):\n",
    "        print('class')\n",
    "        \n",
    "a = p1()\n",
    "a.v()\n",
    "p1.v2()\n",
    "p1.v3()\n",
    "a.v3()"
   ]
  },
  {
   "cell_type": "code",
   "execution_count": 112,
   "id": "5501a6c7",
   "metadata": {},
   "outputs": [
    {
     "name": "stdout",
     "output_type": "stream",
     "text": [
      "Area\n"
     ]
    }
   ],
   "source": [
    "class square:\n",
    "    def Area(self,a):\n",
    "        print(a*a)\n",
    "    def Area(self):\n",
    "        print(\"Area\")\n",
    "s = square()\n",
    "s.Area()"
   ]
  },
  {
   "cell_type": "code",
   "execution_count": 122,
   "id": "2745ac84",
   "metadata": {},
   "outputs": [
    {
     "name": "stdout",
     "output_type": "stream",
     "text": [
      "0\n"
     ]
    }
   ],
   "source": [
    "x = 100\n",
    "y = 0\n",
    "print(y and x)"
   ]
  },
  {
   "cell_type": "code",
   "execution_count": 126,
   "id": "e040b1d3",
   "metadata": {},
   "outputs": [],
   "source": [
    "a = 5,00,000"
   ]
  },
  {
   "cell_type": "code",
   "execution_count": 127,
   "id": "58a9b2e5",
   "metadata": {},
   "outputs": [
    {
     "name": "stdout",
     "output_type": "stream",
     "text": [
      "(5, 0, 0)\n"
     ]
    }
   ],
   "source": [
    "print(a)"
   ]
  },
  {
   "cell_type": "code",
   "execution_count": 130,
   "id": "7a4fa825",
   "metadata": {},
   "outputs": [
    {
     "name": "stdout",
     "output_type": "stream",
     "text": [
      "False\n"
     ]
    }
   ],
   "source": [
    "print('2'==2)"
   ]
  },
  {
   "cell_type": "code",
   "execution_count": 140,
   "id": "92bd7a72",
   "metadata": {},
   "outputs": [
    {
     "name": "stdout",
     "output_type": "stream",
     "text": [
      "<re.Match object; span=(0, 4), match='helo'>\n"
     ]
    }
   ],
   "source": [
    "import re\n",
    "p = re.match('hell*o','heloooooooo world')\n",
    "print(p)"
   ]
  },
  {
   "cell_type": "code",
   "execution_count": 141,
   "id": "3da02b2d",
   "metadata": {},
   "outputs": [
    {
     "name": "stdout",
     "output_type": "stream",
     "text": [
      "<re.Match object; span=(0, 5), match='hello'>\n"
     ]
    }
   ],
   "source": [
    "import re\n",
    "p = re.match('hell+o','helloooooooo world')\n",
    "print(p)"
   ]
  },
  {
   "cell_type": "code",
   "execution_count": 146,
   "id": "965c775a",
   "metadata": {},
   "outputs": [
    {
     "name": "stdout",
     "output_type": "stream",
     "text": [
      "<re.Match object; span=(15, 19), match='helo'>\n"
     ]
    }
   ],
   "source": [
    "import re\n",
    "p = re.search('hell*o',' faf du plesis heloooooooo world hello')\n",
    "print(p)"
   ]
  },
  {
   "cell_type": "code",
   "execution_count": 144,
   "id": "a6f92f7a",
   "metadata": {},
   "outputs": [
    {
     "name": "stdout",
     "output_type": "stream",
     "text": [
      "['helo', 'hello']\n"
     ]
    }
   ],
   "source": [
    "import re\n",
    "p = re.findall('hell*o',' faf du plesis heloooooooo world hello')\n",
    "print(p)"
   ]
  },
  {
   "cell_type": "code",
   "execution_count": 156,
   "id": "f0cc0bb1",
   "metadata": {},
   "outputs": [
    {
     "name": "stdout",
     "output_type": "stream",
     "text": [
      "vin645cgs\n",
      "['v', 'i', 'n', '6', '4', '5', 'c', 'g', 's']\n"
     ]
    }
   ],
   "source": [
    "s = input()\n",
    "p = re.search('[A-Za-z0-9]',s)\n",
    "print(p)"
   ]
  },
  {
   "cell_type": "code",
   "execution_count": 160,
   "id": "92cff8a1",
   "metadata": {},
   "outputs": [
    {
     "name": "stdout",
     "output_type": "stream",
     "text": [
      "hit hog ttuv absurd a ffa adsrda\n",
      "<re.Match object; span=(13, 15), match='ab'>\n"
     ]
    }
   ],
   "source": [
    "s = input()\n",
    "p = re.search('ab*',s)\n",
    "print(p)"
   ]
  },
  {
   "cell_type": "code",
   "execution_count": 164,
   "id": "0e5e6513",
   "metadata": {},
   "outputs": [
    {
     "name": "stdout",
     "output_type": "stream",
     "text": [
      "gfdd fdtabbb\n",
      "<re.Match object; span=(8, 12), match='abbb'>\n"
     ]
    }
   ],
   "source": [
    "s = input()\n",
    "p = re.search('ab+',s)\n",
    "print(p)"
   ]
  },
  {
   "cell_type": "code",
   "execution_count": 167,
   "id": "a2152378",
   "metadata": {},
   "outputs": [
    {
     "name": "stdout",
     "output_type": "stream",
     "text": [
      "hvytf abbbbcyg abcyuft\n",
      "<re.Match object; span=(15, 18), match='abc'>\n"
     ]
    }
   ],
   "source": [
    "s = input()\n",
    "p = re.search('ab?',s)\n",
    "print(p)"
   ]
  },
  {
   "cell_type": "code",
   "execution_count": 169,
   "id": "1832c110",
   "metadata": {},
   "outputs": [
    {
     "name": "stdout",
     "output_type": "stream",
     "text": [
      "jbxsyvyuo ahbhavabba\n",
      "<re.Match object; span=(16, 19), match='abb'>\n"
     ]
    }
   ],
   "source": [
    "s = input()\n",
    "p = re.search('ab{2,3}',s)\n",
    "print(p)"
   ]
  },
  {
   "cell_type": "code",
   "execution_count": 173,
   "id": "5adc78fa",
   "metadata": {},
   "outputs": [
    {
     "name": "stdout",
     "output_type": "stream",
     "text": [
      "crd div yftdsyt____yvtydyt bug_vc\n",
      "<re.Match object; span=(29, 32), match='g_v'>\n"
     ]
    }
   ],
   "source": [
    "s = input()\n",
    "p = re.search('[a-z]_{1}[a-z]',s)\n",
    "print(p)"
   ]
  },
  {
   "cell_type": "code",
   "execution_count": 187,
   "id": "b4db02a0",
   "metadata": {},
   "outputs": [
    {
     "name": "stdout",
     "output_type": "stream",
     "text": [
      "97\n",
      "vin\n",
      "None\n",
      "67\n",
      "he\n"
     ]
    }
   ],
   "source": [
    "class yourclass:\n",
    "    def __init__(self,marks,name):\n",
    "        self.marks = marks\n",
    "        self.name = name\n",
    "    def display(self):\n",
    "        print(self.marks)\n",
    "        print(self.name)\n",
    "v = yourclass(97,'vin')\n",
    "v.display()\n",
    "print(v.__init__(67,'he'))\n",
    "v.display()"
   ]
  },
  {
   "cell_type": "code",
   "execution_count": 190,
   "id": "be1b8d86",
   "metadata": {},
   "outputs": [
    {
     "data": {
      "text/plain": [
       "{1: 1, 2: 2, 3: 3}"
      ]
     },
     "execution_count": 190,
     "metadata": {},
     "output_type": "execute_result"
    }
   ],
   "source": [
    "d = dict()\n",
    "d[1]=1\n",
    "d[2]=2\n",
    "d[3]=3\n",
    "d"
   ]
  },
  {
   "cell_type": "code",
   "execution_count": 193,
   "id": "553b142f",
   "metadata": {},
   "outputs": [
    {
     "name": "stdout",
     "output_type": "stream",
     "text": [
      "Number of values : 5\n",
      "Enter value-1 : 2\n",
      "Enter value-2 : 4\n",
      "Enter value-3 : hello\n",
      "Enter value-4 : vinay\n",
      "Enter value-5 : 100\n"
     ]
    }
   ],
   "source": [
    "d = {}\n",
    "n = int(input(\"Number of values : \"))\n",
    "for i in range(1,n+1):\n",
    "    j = input(f'Enter value-{i} : ')\n",
    "    if j.isdigit():\n",
    "        d[i]=int(j)\n",
    "    else:\n",
    "        d[i]=j"
   ]
  },
  {
   "cell_type": "code",
   "execution_count": 194,
   "id": "a787a83a",
   "metadata": {},
   "outputs": [
    {
     "data": {
      "text/plain": [
       "{1: 2, 2: 4, 3: 'hello', 4: 'vinay', 5: 100}"
      ]
     },
     "execution_count": 194,
     "metadata": {},
     "output_type": "execute_result"
    }
   ],
   "source": [
    "d"
   ]
  },
  {
   "cell_type": "code",
   "execution_count": 197,
   "id": "5268bb99",
   "metadata": {},
   "outputs": [
    {
     "name": "stdout",
     "output_type": "stream",
     "text": [
      "Enter the key : 3\n",
      "d[3] = hello\n"
     ]
    }
   ],
   "source": [
    "k = int(input('Enter the key : '))\n",
    "print(f'd[{k}] = {d[k]}')"
   ]
  },
  {
   "cell_type": "code",
   "execution_count": 199,
   "id": "0e39b3c8",
   "metadata": {},
   "outputs": [
    {
     "name": "stdout",
     "output_type": "stream",
     "text": [
      "Enter the key : 4\n",
      "d[4] = vinay\n"
     ]
    }
   ],
   "source": [
    "k = int(input('Enter the key : '))\n",
    "print(f'd[{k}] = {d.get(k)}')"
   ]
  },
  {
   "cell_type": "code",
   "execution_count": 202,
   "id": "a1cc3ade",
   "metadata": {},
   "outputs": [
    {
     "name": "stdout",
     "output_type": "stream",
     "text": [
      "Enter the limit : 3\n",
      "enter number - 1 : 5\n",
      "enter number - 2 : 2\n",
      "enter number - 3 : 8\n",
      "[2, 8]\n"
     ]
    }
   ],
   "source": [
    "n = int(input(\"Enter the limit : \"))\n",
    "l=[]\n",
    "for i in range(1,n+1):\n",
    "    j = int(input(f\"enter number - {i} : \"))\n",
    "    if j%2==0:\n",
    "        l.append(j)\n",
    "print(l)"
   ]
  },
  {
   "cell_type": "code",
   "execution_count": 217,
   "id": "675ad7b4",
   "metadata": {},
   "outputs": [
    {
     "name": "stdout",
     "output_type": "stream",
     "text": [
      "Enter the limit : 4\n",
      "enter number - 1 : 1\n",
      "enter number - 2 : 2\n",
      "enter number - 3 : 3\n",
      "enter number - 4 : 4\n"
     ]
    }
   ],
   "source": [
    "n = int(input(\"Enter the limit : \"))\n",
    "l=[]\n",
    "for i in range(1,n+1):\n",
    "    j = int(input(f\"enter number - {i} : \"))\n",
    "    l.append(j)"
   ]
  },
  {
   "cell_type": "code",
   "execution_count": 214,
   "id": "f144849f",
   "metadata": {},
   "outputs": [
    {
     "data": {
      "text/plain": [
       "[1, 2, 3, 4]"
      ]
     },
     "execution_count": 214,
     "metadata": {},
     "output_type": "execute_result"
    }
   ],
   "source": [
    "l"
   ]
  },
  {
   "cell_type": "code",
   "execution_count": 206,
   "id": "be7e2b0b",
   "metadata": {},
   "outputs": [
    {
     "data": {
      "text/plain": [
       "[]"
      ]
     },
     "execution_count": 206,
     "metadata": {},
     "output_type": "execute_result"
    }
   ],
   "source": [
    "l.clear()\n",
    "l"
   ]
  },
  {
   "cell_type": "code",
   "execution_count": 215,
   "id": "19722e3d",
   "metadata": {},
   "outputs": [],
   "source": [
    "del l"
   ]
  },
  {
   "cell_type": "code",
   "execution_count": 218,
   "id": "8d2511ce",
   "metadata": {},
   "outputs": [
    {
     "name": "stdout",
     "output_type": "stream",
     "text": [
      "enter the location to remove : 2\n"
     ]
    },
    {
     "data": {
      "text/plain": [
       "[1, 2, 4]"
      ]
     },
     "execution_count": 218,
     "metadata": {},
     "output_type": "execute_result"
    }
   ],
   "source": [
    "m = int(input(\"enter the location to remove : \"))\n",
    "l.pop(m)\n",
    "l"
   ]
  },
  {
   "cell_type": "code",
   "execution_count": 219,
   "id": "8d7e1d67",
   "metadata": {},
   "outputs": [
    {
     "name": "stdout",
     "output_type": "stream",
     "text": [
      "[1, 2, 4]\n",
      "Enter the number of elements to remove : 2\n",
      "enter the element to be removed : 1\n",
      "enter the element to be removed : 4\n"
     ]
    }
   ],
   "source": [
    "print(l)\n",
    "n = int(input(\"Enter the number of elements to remove : \"))\n",
    "for i in range(n):\n",
    "    k = int(input(\"enter the element to be removed : \"))\n",
    "    l.remove(k)"
   ]
  },
  {
   "cell_type": "code",
   "execution_count": 220,
   "id": "f45acc45",
   "metadata": {},
   "outputs": [
    {
     "data": {
      "text/plain": [
       "[2]"
      ]
     },
     "execution_count": 220,
     "metadata": {},
     "output_type": "execute_result"
    }
   ],
   "source": [
    "l"
   ]
  },
  {
   "cell_type": "code",
   "execution_count": 222,
   "id": "63ccc53c",
   "metadata": {},
   "outputs": [
    {
     "name": "stdout",
     "output_type": "stream",
     "text": [
      "Enter a number : 4\n",
      "The number 4 occured 6 times\n"
     ]
    }
   ],
   "source": [
    "l = [1,2,3,2,4,3,5,4,6,5,6,7,4,5,6,8,4,5,6,9,0,7,8,1,3,4,5,7,6,4,5,7,8,9,0]\n",
    "n = int(input(\"Enter a number : \"))\n",
    "c = l.count(n)\n",
    "print(f'The number {n} occured {c} times')"
   ]
  },
  {
   "cell_type": "code",
   "execution_count": 225,
   "id": "88f8ac0c",
   "metadata": {},
   "outputs": [
    {
     "name": "stdout",
     "output_type": "stream",
     "text": [
      "Enter a number to search : 5\n",
      "The number 5 is at index 1\n"
     ]
    }
   ],
   "source": [
    "l = [2,5,3,4,7,8,9,0,1]\n",
    "n = int(input(\"Enter a number to search : \"))\n",
    "p = -1\n",
    "for i in range(len(l)):\n",
    "    if l[i]==n:\n",
    "        p=i\n",
    "        break\n",
    "if p==-1:\n",
    "    print(\"Number is not in list\")\n",
    "else:\n",
    "    print(f'The number {n} is at index {p}')"
   ]
  },
  {
   "cell_type": "code",
   "execution_count": 227,
   "id": "acd74128",
   "metadata": {},
   "outputs": [
    {
     "name": "stdout",
     "output_type": "stream",
     "text": [
      "Enter the numbers seperated by spaces : 1 2 3\n",
      "The mean of list is 2.0\n"
     ]
    }
   ],
   "source": [
    "l = list(map(int,input(\"Enter the numbers seperated by spaces : \").split()))\n",
    "print(f\"The mean of list is {sum(l)/len(l)}\")"
   ]
  },
  {
   "cell_type": "code",
   "execution_count": 229,
   "id": "758c9a71",
   "metadata": {},
   "outputs": [
    {
     "name": "stdout",
     "output_type": "stream",
     "text": [
      "Enter the numbers seperated by spaces : 3 2 5 6 1 7 0 4 5 67\n",
      "The minimum number is 0 and it is at index 6\n"
     ]
    }
   ],
   "source": [
    "l = list(map(int,input(\"Enter the numbers seperated by spaces : \").split()))\n",
    "print(f'The minimum number is {min(l)} and it is at index {l.index(min(l))}')"
   ]
  },
  {
   "cell_type": "code",
   "execution_count": 230,
   "id": "6c61ffe3",
   "metadata": {},
   "outputs": [
    {
     "name": "stdout",
     "output_type": "stream",
     "text": [
      "Enter the numbers seperated by spaces : 3 21 5 6 14 8 14 3\n",
      "[3, 5, 21, 6, 8, 14, 3, 14]\n"
     ]
    }
   ],
   "source": [
    "l = list(map(int,input(\"Enter the numbers seperated by spaces : \").split()))\n",
    "i = 0\n",
    "while i<len(l)-1:\n",
    "    if l[i]%7==0:\n",
    "        l[i],l[i+1]=l[i+1],l[i]\n",
    "        i+=2\n",
    "    else:\n",
    "        i+=1\n",
    "print(l)"
   ]
  },
  {
   "cell_type": "code",
   "execution_count": null,
   "id": "1d269cae",
   "metadata": {},
   "outputs": [],
   "source": []
  }
 ],
 "metadata": {
  "kernelspec": {
   "display_name": "Python 3 (ipykernel)",
   "language": "python",
   "name": "python3"
  },
  "language_info": {
   "codemirror_mode": {
    "name": "ipython",
    "version": 3
   },
   "file_extension": ".py",
   "mimetype": "text/x-python",
   "name": "python",
   "nbconvert_exporter": "python",
   "pygments_lexer": "ipython3",
   "version": "3.9.13"
  }
 },
 "nbformat": 4,
 "nbformat_minor": 5
}
